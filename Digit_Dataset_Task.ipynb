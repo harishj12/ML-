{
  "nbformat": 4,
  "nbformat_minor": 0,
  "metadata": {
    "colab": {
      "name": "Untitled9.ipynb",
      "provenance": [],
      "collapsed_sections": []
    },
    "kernelspec": {
      "name": "python3",
      "display_name": "Python 3"
    }
  },
  "cells": [
    {
      "cell_type": "code",
      "metadata": {
        "id": "DSlNGLkhX94L",
        "colab_type": "code",
        "colab": {}
      },
      "source": [
        "\n",
        "import numpy as np\n",
        "from sklearn.datasets import load_digits\n",
        "from sklearn.model_selection import train_test_split \n",
        "from sklearn.neighbors import KNeighborsClassifier\n",
        "import matplotlib.pyplot as plt \n",
        "%matplotlib inline"
      ],
      "execution_count": 0,
      "outputs": []
    },
    {
      "cell_type": "markdown",
      "metadata": {
        "id": "-CPxNj4EeXaH",
        "colab_type": "text"
      },
      "source": [
        "Here i choos knn model because it is easy to interpret output and it's calculation time is low. for evalutaion of this model we just need to find the value of k. So in this practical first i choose random k value and find the accuracy of it , then i apply MSE to find the value of k for which the output accuracy is better. "
      ]
    },
    {
      "cell_type": "code",
      "metadata": {
        "id": "PfAQf7MUYiym",
        "colab_type": "code",
        "colab": {}
      },
      "source": [
        "# load dataset\n",
        "digits = load_digits()\n",
        "X = digits.data\n",
        "y = digits.target"
      ],
      "execution_count": 0,
      "outputs": []
    },
    {
      "cell_type": "code",
      "metadata": {
        "id": "fyI-oRPdYqXs",
        "colab_type": "code",
        "colab": {}
      },
      "source": [
        "# split into test and train dataset, and use random_state=48\n",
        "X_train, X_test, y_train, y_test = train_test_split(X, y, random_state=4)"
      ],
      "execution_count": 0,
      "outputs": []
    },
    {
      "cell_type": "code",
      "metadata": {
        "id": "5Z87PQqPYvyt",
        "colab_type": "code",
        "colab": {}
      },
      "source": [
        "# build KNN model and choose n_neighbors = 5\n",
        "knn = KNeighborsClassifier(n_neighbors = 5)"
      ],
      "execution_count": 0,
      "outputs": []
    },
    {
      "cell_type": "code",
      "metadata": {
        "id": "NdrmXK7CYx4V",
        "colab_type": "code",
        "colab": {
          "base_uri": "https://localhost:8080/",
          "height": 68
        },
        "outputId": "214f097a-c346-4079-e3ba-3873eb915ad0"
      },
      "source": [
        "# train the model\n",
        "knn.fit(X_train, y_train)"
      ],
      "execution_count": 8,
      "outputs": [
        {
          "output_type": "execute_result",
          "data": {
            "text/plain": [
              "KNeighborsClassifier(algorithm='auto', leaf_size=30, metric='minkowski',\n",
              "                     metric_params=None, n_jobs=None, n_neighbors=5, p=2,\n",
              "                     weights='uniform')"
            ]
          },
          "metadata": {
            "tags": []
          },
          "execution_count": 8
        }
      ]
    },
    {
      "cell_type": "code",
      "metadata": {
        "id": "HFr7r2wFYz_l",
        "colab_type": "code",
        "colab": {}
      },
      "source": [
        "# get the predict value from X_test\n",
        "y_pred = knn.predict(X_test)"
      ],
      "execution_count": 0,
      "outputs": []
    },
    {
      "cell_type": "code",
      "metadata": {
        "id": "6qJBXN0-Y349",
        "colab_type": "code",
        "colab": {
          "base_uri": "https://localhost:8080/",
          "height": 34
        },
        "outputId": "c0ce727b-8e79-4deb-edbc-f4b2354da8fd"
      },
      "source": [
        "# print the score\n",
        "print('accuracy: ', knn.score(X_test, y_test))"
      ],
      "execution_count": 10,
      "outputs": [
        {
          "output_type": "stream",
          "text": [
            "accuracy:  0.9822222222222222\n"
          ],
          "name": "stdout"
        }
      ]
    },
    {
      "cell_type": "code",
      "metadata": {
        "id": "nJmlUEEIY7F2",
        "colab_type": "code",
        "colab": {}
      },
      "source": [
        "# import k-folder\n",
        "from sklearn.model_selection import cross_val_score"
      ],
      "execution_count": 0,
      "outputs": []
    },
    {
      "cell_type": "code",
      "metadata": {
        "id": "Ttw76d4UZBTt",
        "colab_type": "code",
        "colab": {}
      },
      "source": [
        "# use the same model as before\n",
        "knn = KNeighborsClassifier(n_neighbors = 5)"
      ],
      "execution_count": 0,
      "outputs": []
    },
    {
      "cell_type": "code",
      "metadata": {
        "id": "FtxGuUGQZES1",
        "colab_type": "code",
        "colab": {}
      },
      "source": [
        "# X,y will automatically devided by 5 folder, the scoring I will still use the accuracy\n",
        "scores = cross_val_score(knn, X, y, cv=5, scoring='accuracy')"
      ],
      "execution_count": 0,
      "outputs": []
    },
    {
      "cell_type": "code",
      "metadata": {
        "id": "lmma8xsUZGTt",
        "colab_type": "code",
        "colab": {
          "base_uri": "https://localhost:8080/",
          "height": 34
        },
        "outputId": "dd076b99-cff9-436a-b3fa-560c54f23b1d"
      },
      "source": [
        "#print all scores\n",
        "print(scores)"
      ],
      "execution_count": 15,
      "outputs": [
        {
          "output_type": "stream",
          "text": [
            "[0.9478022  0.9558011  0.96657382 0.98039216 0.96338028]\n"
          ],
          "name": "stdout"
        }
      ]
    },
    {
      "cell_type": "code",
      "metadata": {
        "id": "RMYCFPNWZJgd",
        "colab_type": "code",
        "colab": {
          "base_uri": "https://localhost:8080/",
          "height": 34
        },
        "outputId": "cb3f758b-efb4-4ccb-f4e0-2f93c61d895d"
      },
      "source": [
        "#average mean \n",
        "print(scores.mean())"
      ],
      "execution_count": 16,
      "outputs": [
        {
          "output_type": "stream",
          "text": [
            "0.9627899114966898\n"
          ],
          "name": "stdout"
        }
      ]
    },
    {
      "cell_type": "code",
      "metadata": {
        "id": "jARZfW-DZMEV",
        "colab_type": "code",
        "colab": {}
      },
      "source": [
        "#we want to check for which value of k the accuracy is higher so we took a range of 1-31\n",
        "k_range = range(1, 31)\n",
        "k_scores = []\n"
      ],
      "execution_count": 0,
      "outputs": []
    },
    {
      "cell_type": "code",
      "metadata": {
        "id": "khrM5aNvZTOM",
        "colab_type": "code",
        "colab": {}
      },
      "source": [
        "# use iteration to caclulator different k in models, then return the average accuracy based on the cross validation\n",
        "for k in k_range:\n",
        "    knn = KNeighborsClassifier(n_neighbors=k)\n",
        "    scores = cross_val_score(knn, X, y, cv=5, scoring='accuracy')\n",
        "    k_scores.append(scores.mean())"
      ],
      "execution_count": 0,
      "outputs": []
    },
    {
      "cell_type": "code",
      "metadata": {
        "id": "zUIRYbImZZBl",
        "colab_type": "code",
        "colab": {
          "base_uri": "https://localhost:8080/",
          "height": 283
        },
        "outputId": "b93a301b-4f47-4b00-fc38-93bf9adcc4dc"
      },
      "source": [
        "# plot to see clearly\n",
        "#from below output we can see that value for k around 1-5 for better accuracy \n",
        "#after 5 the value is dicreasing so we will not use below 5\n",
        "\n",
        "plt.plot(k_range, k_scores)\n",
        "plt.xlabel('Value of K for KNN')\n",
        "plt.ylabel('Cross-Validated Accuracy')\n",
        "plt.show()"
      ],
      "execution_count": 21,
      "outputs": [
        {
          "output_type": "display_data",
          "data": {
            "image/png": "[encoded data removed]",
            "text/plain": [
              "<Figure size 432x288 with 1 Axes>"
            ]
          },
          "metadata": {
            "tags": []
          }
        }
      ]
    },
    {
      "cell_type": "code",
      "metadata": {
        "id": "5OsThayLZ3Px",
        "colab_type": "code",
        "colab": {}
      },
      "source": [
        "#now we want to improve the score \n",
        "#neg_mean_squared_error for scoring better accuracy\n",
        "k_range = range(1, 31)\n",
        "k_scores = []\n",
        "for k in k_range:\n",
        "    knn = KNeighborsClassifier(n_neighbors=k)\n",
        "    loss = abs(cross_val_score(knn, X, y, cv=5, scoring='neg_mean_squared_error'))\n",
        "    k_scores.append(loss.mean())"
      ],
      "execution_count": 0,
      "outputs": []
    },
    {
      "cell_type": "code",
      "metadata": {
        "id": "FSZJn3m4aB9-",
        "colab_type": "code",
        "colab": {
          "base_uri": "https://localhost:8080/",
          "height": 283
        },
        "outputId": "83d71d28-45d9-4007-d44c-e5dd22e90fa9"
      },
      "source": [
        "#here from below output we will choose the knn value of k which has minimum value of MSE\n",
        "plt.plot(k_range, k_scores)\n",
        "plt.xlabel('Value of K for KNN')\n",
        "plt.ylabel('Cross-Validated MSE')\n",
        "plt.show()"
      ],
      "execution_count": 23,
      "outputs": [
        {
          "output_type": "display_data",
          "data": {
            "image/png": "[encoded data removed]",
            "text/plain": [
              "<Figure size 432x288 with 1 Axes>"
            ]
          },
          "metadata": {
            "tags": []
          }
        }
      ]
    },
    {
      "cell_type": "code",
      "metadata": {
        "id": "fgaNxqSFaf0l",
        "colab_type": "code",
        "colab": {}
      },
      "source": [
        "#so from above result we come to know that we should take k(1-5)\n",
        "#here i take k=3\n",
        "# here for k=1 it is always zero for the training sample,This is because the closest point to any training data point is itself\n",
        "#Hence the prediction is always accurate with K=1\n",
        "knn = KNeighborsClassifier(n_neighbors = 2)\n",
        "knn.fit(X_train, y_train)\n",
        "y_pred = knn.predict(X_test)\n"
      ],
      "execution_count": 0,
      "outputs": []
    },
    {
      "cell_type": "code",
      "metadata": {
        "id": "b7ZEj8uma1Sl",
        "colab_type": "code",
        "colab": {
          "base_uri": "https://localhost:8080/",
          "height": 34
        },
        "outputId": "9640e7e9-6030-4a61-ed5b-a0f77c416f59"
      },
      "source": [
        "#print the accuracy for k=2\n",
        "print('accuracy: ', knn.score(X_test, y_test))\n"
      ],
      "execution_count": 49,
      "outputs": [
        {
          "output_type": "stream",
          "text": [
            "accuracy:  0.9844444444444445\n"
          ],
          "name": "stdout"
        }
      ]
    }
  ]
}